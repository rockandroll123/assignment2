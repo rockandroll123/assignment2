{
 "cells": [
  {
   "cell_type": "code",
   "execution_count": 1,
   "metadata": {
    "colab": {
     "base_uri": "https://localhost:8080/",
     "height": 34
    },
    "colab_type": "code",
    "id": "iVp9qpQDLqZJ",
    "outputId": "e0f49524-bbab-4e1a-ebd7-342a7381edf8"
   },
   "outputs": [
    {
     "name": "stderr",
     "output_type": "stream",
     "text": [
      "/Users/lovelife/anaconda3/lib/python3.6/site-packages/h5py/__init__.py:36: FutureWarning: Conversion of the second argument of issubdtype from `float` to `np.floating` is deprecated. In future, it will be treated as `np.float64 == np.dtype(float).type`.\n",
      "  from ._conv import register_converters as _register_converters\n",
      "Using TensorFlow backend.\n"
     ]
    },
    {
     "data": {
      "text/html": [
       "<style>.container { width:100% !important;}</style>"
      ],
      "text/plain": [
       "<IPython.core.display.HTML object>"
      ]
     },
     "execution_count": 1,
     "metadata": {},
     "output_type": "execute_result"
    }
   ],
   "source": [
    "import pandas as pd\n",
    "import numpy as np\n",
    "import keras\n",
    "from keras.preprocessing.image import load_img\n",
    "from keras.preprocessing.image import img_to_array\n",
    "import os\n",
    "import csv\n",
    "import pickle\n",
    "\n",
    "from keras.models import Sequential\n",
    "from keras.layers import Conv2D, MaxPooling2D\n",
    "from keras.layers import Activation, Dropout, Flatten, Dense\n",
    "from sklearn import preprocessing\n",
    "from autokeras.image.image_supervised import load_image_dataset\n",
    "\n",
    "import keras\n",
    "import numpy as np\n",
    "from keras.applications import vgg16, inception_v3, resnet50, mobilenet\n",
    " \n",
    "\n",
    "\n",
    "from IPython.display import display\n",
    "pd.set_option('display.max_rows',5)\n",
    "pd.set_option('precision',3)\n",
    "\n",
    "from IPython.core.display import HTML\n",
    "HTML(\"<style>.container { width:100% !important;}</style>\")"
   ]
  },
  {
   "cell_type": "code",
   "execution_count": 2,
   "metadata": {
    "colab": {
     "base_uri": "https://localhost:8080/",
     "height": 34
    },
    "colab_type": "code",
    "id": "HWqYj6SAL5xz",
    "outputId": "aa51ca56-1be0-46c2-e2ea-89a91e86ded1"
   },
   "outputs": [
    {
     "name": "stdout",
     "output_type": "stream",
     "text": [
      "(100000,)\n"
     ]
    }
   ],
   "source": [
    "all_train_images=os.listdir(\"./data/box/images\")\n",
    "#print(len(all_train_images))\n",
    "labels=[x.split(\"_\")[0] for x in all_train_images]\n",
    "labels_my=[int(x.split(\"_\")[1].split('.png')[0]) for x in all_train_images]\n",
    "labels_my\n",
    "\n",
    "# trail all, delete\n",
    "\n",
    "filt=pd.DataFrame({'image':all_train_images,'label':labels,'num':labels_my})\n",
    "filt\n",
    "all_train_images=filt['image'].tolist()\n",
    "labels=filt['label'].tolist()\n",
    "\n",
    "with open('train_label.csv', 'w') as train_csv:\n",
    "    fieldnames = ['File Name', 'Label']\n",
    "    writer = csv.DictWriter(train_csv, fieldnames=fieldnames)\n",
    "    writer.writeheader()\n",
    "    for i in range(len(all_train_images)):\n",
    "        writer.writerow({'File Name': all_train_images[i], 'Label':labels[i]})\n",
    "    train_csv.close()\n",
    "\n",
    "x_train, y_train = load_image_dataset(csv_file_path=\"train_label.csv\",\n",
    "                                      images_path=\"./data/box/images\")\n",
    "print(x_train.shape)\n",
    "print(y_train.shape)\n",
    "\n",
    "\n",
    "filt = pd.read_csv('./val/val_annotations.txt', sep=\"\\t\", header=None)\n",
    "filt.columns=['image','label','a','b','c','d']\n",
    "filt['image']=filt['image'].apply(lambda x: x.split('.')[0]+'.png')\n",
    "\n",
    "all_train_images=filt['image'].tolist()\n",
    "labels=filt['label'].tolist()\n",
    "\n",
    "with open('valid_label.csv', 'w') as train_csv:\n",
    "    fieldnames = ['File Name', 'Label']\n",
    "    writer = csv.DictWriter(train_csv, fieldnames=fieldnames)\n",
    "    writer.writeheader()\n",
    "    for i in range(len(all_train_images)):\n",
    "        writer.writerow({'File Name': all_train_images[i], 'Label':labels[i]})\n",
    "    train_csv.close()\n",
    "    \n",
    "x_valid, y_valid = load_image_dataset(csv_file_path=\"valid_label.csv\",\n",
    "                                      images_path=\"./data/val/box/images\")\n",
    "print(x_valid.shape)\n",
    "print(y_valid.shape)\n",
    "\n",
    "\n",
    "all_train_images=os.listdir(\"./data/test/box/images\")\n",
    "labels=['unknow' for x in all_train_images]\n",
    "labels_my=['unknow' for x in all_train_images]\n",
    "\n",
    "\n",
    "filt=pd.DataFrame({'image':all_train_images,'label':labels,'num':labels_my})\n",
    "all_train_images=filt['image'].tolist()\n",
    "labels=filt['label'].tolist()\n",
    "import csv\n",
    "with open('test_label.csv', 'w') as train_csv:\n",
    "    fieldnames = ['File Name', 'Label']\n",
    "    writer = csv.DictWriter(train_csv, fieldnames=fieldnames)\n",
    "    writer.writeheader()\n",
    "    for i in range(len(all_train_images)):\n",
    "        writer.writerow({'File Name': all_train_images[i], 'Label':labels[i]})\n",
    "    train_csv.close()\n",
    "    \n",
    "x_test, y_test = load_image_dataset(csv_file_path=\"test_label.csv\",\n",
    "                                      images_path=\"./data/test/box/images\")\n",
    "print(x_test.shape)\n"
   ]
  },
  {
   "cell_type": "code",
   "execution_count": 5,
   "metadata": {
    "colab": {},
    "colab_type": "code",
    "id": "eyb9u6W2Gjfg"
   },
   "outputs": [],
   "source": [
    "x_train = x_train.astype(\"float\") / 255.0\n",
    "x_valid = x_valid.astype(\"float\") / 255.0\n",
    "x_test = x_test.astype(\"float\") / 255.0"
   ]
  },
  {
   "cell_type": "code",
   "execution_count": 6,
   "metadata": {
    "colab": {},
    "colab_type": "code",
    "id": "eQMzF8EjMEW0"
   },
   "outputs": [],
   "source": [
    "le = preprocessing.LabelEncoder()\n",
    "le.fit(y_train)\n",
    "y_train1=le.transform(y_train) \n",
    "y_train2= keras.utils.to_categorical(y_train1, 200)\n",
    "y_valid1=le.transform(y_valid) \n",
    "y_valid2= keras.utils.to_categorical(y_valid1, 200)"
   ]
  },
  {
   "cell_type": "code",
   "execution_count": 9,
   "metadata": {
    "colab": {
     "base_uri": "https://localhost:8080/",
     "height": 1448
    },
    "colab_type": "code",
    "id": "n6rcRdUPMXIi",
    "outputId": "c5e01573-282e-4a7e-9a24-7c06a4228d2a"
   },
   "outputs": [
    {
     "name": "stdout",
     "output_type": "stream",
     "text": [
      "0.3 128 256 256\n",
      "WARNING:tensorflow:From /usr/local/lib/python3.6/dist-packages/tensorflow/python/framework/op_def_library.py:263: colocate_with (from tensorflow.python.framework.ops) is deprecated and will be removed in a future version.\n",
      "Instructions for updating:\n",
      "Colocations handled automatically by placer.\n",
      "WARNING:tensorflow:From /usr/local/lib/python3.6/dist-packages/keras/backend/tensorflow_backend.py:3445: calling dropout (from tensorflow.python.ops.nn_ops) with keep_prob is deprecated and will be removed in a future version.\n",
      "Instructions for updating:\n",
      "Please use `rate` instead of `keep_prob`. Rate should be set to `rate = 1 - keep_prob`.\n",
      "_________________________________________________________________\n",
      "Layer (type)                 Output Shape              Param #   \n",
      "=================================================================\n",
      "conv2d_1 (Conv2D)            (None, 32, 32, 128)       3584      \n",
      "_________________________________________________________________\n",
      "max_pooling2d_1 (MaxPooling2 (None, 16, 16, 128)       0         \n",
      "_________________________________________________________________\n",
      "batch_normalization_1 (Batch (None, 16, 16, 128)       512       \n",
      "_________________________________________________________________\n",
      "conv2d_2 (Conv2D)            (None, 16, 16, 256)       295168    \n",
      "_________________________________________________________________\n",
      "max_pooling2d_2 (MaxPooling2 (None, 8, 8, 256)         0         \n",
      "_________________________________________________________________\n",
      "batch_normalization_2 (Batch (None, 8, 8, 256)         1024      \n",
      "_________________________________________________________________\n",
      "conv2d_3 (Conv2D)            (None, 8, 8, 256)         590080    \n",
      "_________________________________________________________________\n",
      "max_pooling2d_3 (MaxPooling2 (None, 4, 4, 256)         0         \n",
      "_________________________________________________________________\n",
      "batch_normalization_3 (Batch (None, 4, 4, 256)         1024      \n",
      "_________________________________________________________________\n",
      "conv2d_4 (Conv2D)            (None, 4, 4, 256)         590080    \n",
      "_________________________________________________________________\n",
      "max_pooling2d_4 (MaxPooling2 (None, 2, 2, 256)         0         \n",
      "_________________________________________________________________\n",
      "batch_normalization_4 (Batch (None, 2, 2, 256)         1024      \n",
      "_________________________________________________________________\n",
      "dropout_1 (Dropout)          (None, 2, 2, 256)         0         \n",
      "_________________________________________________________________\n",
      "flatten_1 (Flatten)          (None, 1024)              0         \n",
      "_________________________________________________________________\n",
      "dense_1 (Dense)              (None, 256)               262400    \n",
      "_________________________________________________________________\n",
      "dropout_2 (Dropout)          (None, 256)               0         \n",
      "_________________________________________________________________\n",
      "dense_2 (Dense)              (None, 200)               51400     \n",
      "=================================================================\n",
      "Total params: 1,796,296\n",
      "Trainable params: 1,794,504\n",
      "Non-trainable params: 1,792\n",
      "_________________________________________________________________\n",
      "None\n",
      "WARNING:tensorflow:From /usr/local/lib/python3.6/dist-packages/tensorflow/python/ops/math_ops.py:3066: to_int32 (from tensorflow.python.ops.math_ops) is deprecated and will be removed in a future version.\n",
      "Instructions for updating:\n",
      "Use tf.cast instead.\n",
      "Train on 100000 samples, validate on 10000 samples\n",
      "Epoch 1/15\n",
      "100000/100000 [==============================] - 51s 510us/step - loss: 4.7258 - acc: 0.0629 - val_loss: 4.1856 - val_acc: 0.1170\n",
      "Epoch 2/15\n",
      "100000/100000 [==============================] - 47s 468us/step - loss: 3.9088 - acc: 0.1536 - val_loss: 3.8562 - val_acc: 0.1646\n",
      "Epoch 3/15\n",
      "100000/100000 [==============================] - 47s 468us/step - loss: 3.5314 - acc: 0.2090 - val_loss: 3.2792 - val_acc: 0.2517\n",
      "Epoch 4/15\n",
      "100000/100000 [==============================] - 47s 469us/step - loss: 3.2573 - acc: 0.2570 - val_loss: 3.4759 - val_acc: 0.2297\n",
      "Epoch 5/15\n",
      "100000/100000 [==============================] - 47s 470us/step - loss: 3.0351 - acc: 0.2934 - val_loss: 3.0656 - val_acc: 0.2946\n",
      "Epoch 6/15\n",
      "100000/100000 [==============================] - 47s 471us/step - loss: 2.8355 - acc: 0.3267 - val_loss: 3.0961 - val_acc: 0.2922\n",
      "Epoch 7/15\n",
      "100000/100000 [==============================] - 47s 470us/step - loss: 2.6536 - acc: 0.3594 - val_loss: 2.9979 - val_acc: 0.3115\n",
      "Epoch 8/15\n",
      "100000/100000 [==============================] - 48s 476us/step - loss: 2.4866 - acc: 0.3881 - val_loss: 3.0129 - val_acc: 0.3103\n",
      "Epoch 9/15\n",
      "100000/100000 [==============================] - 48s 476us/step - loss: 2.3358 - acc: 0.4161 - val_loss: 2.9888 - val_acc: 0.3233\n",
      "Epoch 10/15\n",
      "100000/100000 [==============================] - 48s 484us/step - loss: 2.1897 - acc: 0.4431 - val_loss: 3.1016 - val_acc: 0.3064\n",
      "Epoch 11/15\n",
      "100000/100000 [==============================] - 48s 484us/step - loss: 2.0493 - acc: 0.4716 - val_loss: 2.9877 - val_acc: 0.3300\n",
      "Epoch 12/15\n",
      "100000/100000 [==============================] - 48s 484us/step - loss: 1.9272 - acc: 0.4959 - val_loss: 3.0846 - val_acc: 0.3236\n",
      "Epoch 13/15\n",
      "100000/100000 [==============================] - 48s 484us/step - loss: 1.8163 - acc: 0.5174 - val_loss: 2.9981 - val_acc: 0.3346\n",
      "Epoch 14/15\n",
      "100000/100000 [==============================] - 48s 483us/step - loss: 1.7040 - acc: 0.5411 - val_loss: 3.1293 - val_acc: 0.3309\n",
      "Epoch 15/15\n",
      "100000/100000 [==============================] - 48s 483us/step - loss: 1.6182 - acc: 0.5597 - val_loss: 3.2590 - val_acc: 0.3100\n"
     ]
    }
   ],
   "source": [
    "from keras.layers.normalization import BatchNormalization\n",
    "from keras import optimizers\n",
    "\n",
    "drop_outs=[0.3]\n",
    "IMG_SIZE=32\n",
    "filter_bases=[128]\n",
    "\n",
    "for drop_out in drop_outs:\n",
    "    for filter_base in filter_bases:\n",
    "        mid_filter=filter_base*2\n",
    "        high_filter=filter_base*2\n",
    "        print(drop_out,filter_base,mid_filter,high_filter)\n",
    "        model = Sequential()\n",
    "        model.add(Conv2D(filter_base, kernel_size = (3,3),padding='same', activation='relu', input_shape=(IMG_SIZE, IMG_SIZE, 3)))\n",
    "        model.add(MaxPooling2D(pool_size=(2,2)))\n",
    "        model.add(BatchNormalization())\n",
    "        model.add(Conv2D(mid_filter, kernel_size=(3,3),padding='same', activation='relu'))\n",
    "        model.add(MaxPooling2D(pool_size=(2,2)))\n",
    "        model.add(BatchNormalization())\n",
    "        model.add(Conv2D(mid_filter, kernel_size=(3,3),padding='same', activation='relu'))\n",
    "        model.add(MaxPooling2D(pool_size=(2,2)))\n",
    "        model.add(BatchNormalization())\n",
    "        model.add(Conv2D(mid_filter, kernel_size=(3,3),padding='same', activation='relu'))\n",
    "        model.add(MaxPooling2D(pool_size=(2,2)))\n",
    "        model.add(BatchNormalization())\n",
    "        model.add(Dropout(drop_out))\n",
    "        model.add(Flatten())\n",
    "        model.add(Dense(256, activation='relu'))\n",
    "        model.add(Dropout(drop_out))\n",
    "        model.add(Dense(200, activation = 'softmax'))\n",
    "\n",
    "        model.compile(loss='categorical_crossentropy', optimizer='adam', metrics = ['accuracy'])\n",
    "        print(model.summary())\n",
    "        history= model.fit(x_train, y_train2, shuffle=True, batch_size = 128, epochs = 15, verbose = 1, validation_data=(x_valid, y_valid2))\n"
   ]
  },
  {
   "cell_type": "code",
   "execution_count": 16,
   "metadata": {
    "colab": {
     "base_uri": "https://localhost:8080/",
     "height": 51
    },
    "colab_type": "code",
    "id": "ITM-GbZ8EMJL",
    "outputId": "f617c01f-24fd-4e55-cb6b-01bfbbc5cb4a"
   },
   "outputs": [
    {
     "data": {
      "text/plain": [
       "array(['n03992509', 'n02699494', 'n04501370', ..., 'n02481823',\n",
       "       'n03026506', 'n04133789'], dtype='<U9')"
      ]
     },
     "execution_count": 16,
     "metadata": {
      "tags": []
     },
     "output_type": "execute_result"
    }
   ],
   "source": [
    "y_predict_p1=model.predict(x_test)\n",
    "y_predict_p1_1= [np.argmax(y, axis=None, out=None) for y in y_predict_p1]\n",
    "y_predict_p1_2=le.inverse_transform(y_predict_p1_1)\n",
    "y_predict_p1_2"
   ]
  },
  {
   "cell_type": "code",
   "execution_count": 17,
   "metadata": {
    "colab": {
     "base_uri": "https://localhost:8080/",
     "height": 119
    },
    "colab_type": "code",
    "id": "DzeRHXUtaH0S",
    "outputId": "f54ffe26-3dde-4451-f507-3dbacef51376"
   },
   "outputs": [
    {
     "name": "stdout",
     "output_type": "stream",
     "text": [
      "100000/100000 [==============================] - 25s 246us/step\n",
      "Train loss: 1.141592525024414\n",
      "Train accuracy: 0.70272\n",
      "10000/10000 [==============================] - 2s 247us/step\n",
      "Validation loss: 3.2589765857696533\n",
      "Validation accuracy: 0.31\n"
     ]
    }
   ],
   "source": [
    "# Score trained model.\n",
    "scores = model.evaluate(x_train, y_train2, verbose=1)\n",
    "print('Train loss:', scores[0])\n",
    "print('Train accuracy:', scores[1])\n",
    "scores = model.evaluate(x_valid, y_valid2, verbose=1)\n",
    "print('Validation loss:', scores[0])\n",
    "print('Validation accuracy:', scores[1])"
   ]
  },
  {
   "cell_type": "code",
   "execution_count": 0,
   "metadata": {
    "colab": {},
    "colab_type": "code",
    "id": "yCFr-Fk7B71T"
   },
   "outputs": [],
   "source": [
    "import csv\n",
    "with open('y_predicted_p1.csv', 'w') as train_csv:\n",
    "    fieldnames = ['Label']\n",
    "    writer = csv.DictWriter(train_csv, fieldnames=fieldnames)\n",
    "    writer.writeheader()\n",
    "    for i in range(len(y_predict_p1_2)):\n",
    "        writer.writerow({ 'Label':y_predict_p1_2[i]})\n",
    "    train_csv.close()"
   ]
  },
  {
   "cell_type": "code",
   "execution_count": 19,
   "metadata": {
    "colab": {
     "base_uri": "https://localhost:8080/",
     "height": 34
    },
    "colab_type": "code",
    "id": "4Op5EqoyEnJ5",
    "outputId": "ec086b56-d637-4deb-a8ca-41775bbed058"
   },
   "outputs": [
    {
     "data": {
      "text/plain": [
       "dict_keys(['val_loss', 'val_acc', 'loss', 'acc'])"
      ]
     },
     "execution_count": 19,
     "metadata": {
      "tags": []
     },
     "output_type": "execute_result"
    }
   ],
   "source": [
    "import matplotlib.pyplot as plt\n",
    "history_dict=history.history\n",
    "history_dict.keys()"
   ]
  },
  {
   "cell_type": "code",
   "execution_count": 20,
   "metadata": {
    "colab": {
     "base_uri": "https://localhost:8080/",
     "height": 376
    },
    "colab_type": "code",
    "id": "7WS0-R_mEnTT",
    "outputId": "4a5ae20b-0781-4ac8-e46d-a8368135f566"
   },
   "outputs": [
    {
     "data": {
      "image/png": "[encoded data removed]",
      "text/plain": [
       "<Figure size 576x396 with 1 Axes>"
      ]
     },
     "metadata": {
      "tags": []
     },
     "output_type": "display_data"
    }
   ],
   "source": [
    "history_dict = history.history\n",
    "loss_values = history_dict['loss']\n",
    "val_loss_values = history_dict['val_loss']\n",
    "epochs = range(1, len(loss_values) + 1)\n",
    "plt.plot(epochs, loss_values, 'bo', label='Training loss')\n",
    "plt.plot(epochs, val_loss_values, 'b', label='Validation loss')\n",
    "plt.title('Training and validation loss')\n",
    "plt.xlabel('Epochs')\n",
    "plt.ylabel('Loss')\n",
    "plt.legend()\n",
    "plt.show()"
   ]
  },
  {
   "cell_type": "code",
   "execution_count": 21,
   "metadata": {
    "colab": {
     "base_uri": "https://localhost:8080/",
     "height": 376
    },
    "colab_type": "code",
    "id": "lsWLKoj6EnbP",
    "outputId": "649669ef-69fa-4413-f171-143b526bcfd2"
   },
   "outputs": [
    {
     "data": {
      "image/png": "[encoded data removed]",
      "text/plain": [
       "<Figure size 576x396 with 1 Axes>"
      ]
     },
     "metadata": {
      "tags": []
     },
     "output_type": "display_data"
    }
   ],
   "source": [
    "plt.clf()\n",
    "acc = history_dict['acc']\n",
    "val_acc = history_dict['val_acc']\n",
    "plt.plot(epochs, acc, 'bo', label='Training acc')\n",
    "plt.plot(epochs, val_acc, 'b', label='Validation acc')\n",
    "plt.title('Training and validation accuracy')\n",
    "plt.xlabel('Epochs')\n",
    "plt.ylabel('Accuracy')\n",
    "plt.legend()\n",
    "plt.show()"
   ]
  }
 ],
 "metadata": {
  "accelerator": "GPU",
  "colab": {
   "collapsed_sections": [],
   "name": "Hello,_Colaboratory (9).ipynb",
   "provenance": [],
   "toc_visible": true,
   "version": "0.3.2"
  },
  "kernelspec": {
   "display_name": "Python 3",
   "language": "python",
   "name": "python3"
  },
  "language_info": {
   "codemirror_mode": {
    "name": "ipython",
    "version": 3
   },
   "file_extension": ".py",
   "mimetype": "text/x-python",
   "name": "python",
   "nbconvert_exporter": "python",
   "pygments_lexer": "ipython3",
   "version": "3.6.8"
  }
 },
 "nbformat": 4,
 "nbformat_minor": 1
}
